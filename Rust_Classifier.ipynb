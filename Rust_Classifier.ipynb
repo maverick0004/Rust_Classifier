{
 "cells": [
  {
   "cell_type": "code",
   "execution_count": 2,
   "metadata": {},
   "outputs": [
    {
     "name": "stderr",
     "output_type": "stream",
     "text": [
      "Using TensorFlow backend.\n"
     ]
    }
   ],
   "source": [
    "import numpy as np\n",
    "from keras.preprocessing.image import ImageDataGenerator\n",
    "from keras.preprocessing import image\n",
    "from keras.layers import Dropout, Flatten, Dense\n",
    "from keras.applications import ResNet50,InceptionResNetV2\n",
    "from keras.models import Model, Sequential\n",
    "from keras.layers import Dense, GlobalAveragePooling2D,GlobalMaxPooling2D\n",
    "from keras import backend as K\n",
    "from keras.applications.resnet50 import preprocess_input\n",
    "from keras import optimizers\n",
    "import matplotlib.pyplot as plt"
   ]
  },
  {
   "cell_type": "code",
   "execution_count": 3,
   "metadata": {},
   "outputs": [],
   "source": [
    "base_model = InceptionResNetV2(weights = 'imagenet',include_top=False,input_shape=(224,224,3))\n",
    "#base_model.summary()"
   ]
  },
  {
   "cell_type": "code",
   "execution_count": 4,
   "metadata": {},
   "outputs": [],
   "source": [
    "model = Sequential()\n",
    "model.add(base_model)\n",
    "model.add(Flatten())\n",
    "model.add(Dense(256,activation='relu'))\n",
    "model.add(Dense(2, activation='softmax'))"
   ]
  },
  {
   "cell_type": "code",
   "execution_count": 5,
   "metadata": {},
   "outputs": [],
   "source": [
    "for layer in base_model.layers: \n",
    "  layer.trainable = False\n",
    "model.compile(optimizer=optimizers.SGD(lr=0.01), loss='categorical_crossentropy', metrics=['accuracy'])\n",
    "#model.summary()"
   ]
  },
  {
   "cell_type": "code",
   "execution_count": 6,
   "metadata": {},
   "outputs": [],
   "source": [
    "model.load_weights(\"newrust.h5\")"
   ]
  },
  {
   "cell_type": "code",
   "execution_count": 8,
   "metadata": {},
   "outputs": [],
   "source": [
    "model.save('kerasmodel.pkl')"
   ]
  },
  {
   "cell_type": "code",
   "execution_count": 11,
   "metadata": {},
   "outputs": [
    {
     "name": "stdout",
     "output_type": "stream",
     "text": [
      "Overwriting script.py\n"
     ]
    }
   ],
   "source": [
    "%%writefile script.py\n",
    "\n",
    "import numpy as np\n",
    "import os\n",
    "import sys\n",
    "import keras as K\n",
    "import json\n",
    "import base64\n",
    "from io import BytesIO\n",
    "from PIL import Image\n",
    "from keras.preprocessing import image\n",
    "from keras.applications.inception_resnet_v2 import preprocess_input\n",
    "\n",
    "def init():\n",
    "    \n",
    "    global model  \n",
    "\n",
    "    print(\"Executing init() method...\")\n",
    "    print(\"Python version: \" + str(sys.version) + \", keras version: \" + K.__version__)\n",
    "    # Load the model \n",
    "    model = K.models.load_model('azureml-models/kerasmodel/8/kerasmodel.pkl')\n",
    "    #model = K.models.load_model('kerasmodel.pkl')\n",
    "    \n",
    "    return\n",
    "\n",
    "def predict(model, img):\n",
    "    x = image.img_to_array(img)\n",
    "    x = np.expand_dims(x, axis=0)\n",
    "    x = preprocess_input(x)\n",
    "    preds = model.predict_classes(x)\n",
    "    return preds[0]\n",
    "\n",
    "def run(inputString):\n",
    "    \n",
    "    responses = []\n",
    "    base64Dict = json.loads(inputString)\n",
    "\n",
    "    for k, v in base64Dict.items():\n",
    "        img_file_name, base64Img = k, v\n",
    "    decoded_img = base64.b64decode(base64Img)\n",
    "    img_buffer = BytesIO(decoded_img)\n",
    "    #imageData = Image.open(img_buffer).convert(\"RGB\")\n",
    "\n",
    "\n",
    "#     # Evaluate the model using the input data\n",
    "#     img = ImageOps.fit(imageData, (32, 32), Image.ANTIALIAS)\n",
    "#     img_conv = np.array(img) # shape: (32, 32, 3)\n",
    "#     # Scale pixel intensity\n",
    "#     x_test = img_conv / 255.0\n",
    "#     # Reshape\n",
    "#     x_test = np.moveaxis(x_test, -1, 0)\n",
    "#     x_test = np.expand_dims(x_test, 0)  # shape (1, 3, 32, 32)\n",
    "\n",
    "#     y_pred = model.predict(x_test)\n",
    "#     y_pred = np.argmax(y_pred, axis=-1)\n",
    "#     # print(y_pred)\n",
    "#     data = json.loads(inputString)['data']\n",
    "    #img_input = base64.decodestring(json.dumps(inputString)[0])\n",
    "    img = image.load_img(img_buffer,target_size=(224, 224))\n",
    "    #img = json.loads(inputString)['data']\n",
    "    preds = predict(model, img)\n",
    "    LABELS = [\"Non Rust\", \"Rust\"]\n",
    "    resp = LABELS[preds]\n",
    "    responses.append(resp)\n",
    "    return json.dumps(responses)\n",
    "    \n",
    "  \n",
    "if __name__ == \"__main__\":\n",
    "    init()\n",
    "    # input data\n",
    "    img_path = '00000668.JPG'\n",
    "    #input_data = \"{\\\"data\\\": [\" + str(list(img_path)) + \"]}\"\n",
    "    encoded = None\n",
    "    with open(img_path, 'rb') as file:\n",
    "        encoded = base64.b64encode(file.read())\n",
    "    img_dict = {img_path: encoded.decode('utf-8')}\n",
    "    body = json.dumps(img_dict)\n",
    "    resp = run(body)\n",
    "    print(resp)"
   ]
  },
  {
   "cell_type": "code",
   "execution_count": 10,
   "metadata": {},
   "outputs": [
    {
     "name": "stdout",
     "output_type": "stream",
     "text": [
      "Using TensorFlow backend.\n",
      "Executing init() method...\n",
      "Python version: 3.6.6 |Anaconda, Inc.| (default, Jun 28 2018, 17:14:51) \n",
      "[GCC 7.2.0], keras version: 2.1.5\n",
      "2018-12-26 21:29:34.245122: I tensorflow/core/platform/cpu_feature_guard.cc:141] Your CPU supports instructions that this TensorFlow binary was not compiled to use: AVX2 FMA\n",
      "2018-12-26 21:29:34.261488: E tensorflow/stream_executor/cuda/cuda_driver.cc:397] failed call to cuInit: CUDA_ERROR_UNKNOWN\n",
      "2018-12-26 21:29:34.261583: I tensorflow/stream_executor/cuda/cuda_diagnostics.cc:150] kernel driver does not appear to be running on this host (vm101): /proc/driver/nvidia/version does not exist\n",
      "[\"Non Rust\"]\n"
     ]
    }
   ],
   "source": [
    "!python script.py"
   ]
  },
  {
   "cell_type": "code",
   "execution_count": 3,
   "metadata": {},
   "outputs": [
    {
     "name": "stdout",
     "output_type": "stream",
     "text": [
      "Attaching compute resource...\n",
      "Received bad response from Resource Provider:\n",
      "Response Code: 400\n",
      "Headers: {'Cache-Control': 'no-cache', 'Pragma': 'no-cache', 'Content-Length': '289', 'Content-Type': 'application/json', 'Expires': '-1', 'x-ms-request-id': '21b1cc19-92a6-409b-8b0d-1dbdd28597ec', 'x-ms-ratelimit-remaining-subscription-writes': '1199', 'Request-Context': 'appId=cid-v1:6a27ce65-5555-41a3-85f7-b7a1ce31fd6b', 'x-ms-client-request-id': '7997abe7-4ee4-4b9a-a3c7-233c5067d567', 'x-ms-client-session-id': '', 'Strict-Transport-Security': 'max-age=31536000; includeSubDomains', 'x-ms-correlation-request-id': '21b1cc19-92a6-409b-8b0d-1dbdd28597ec', 'x-ms-routing-request-id': 'WESTINDIA:20181226T095930Z:21b1cc19-92a6-409b-8b0d-1dbdd28597ec', 'X-Content-Type-Options': 'nosniff', 'Date': 'Wed, 26 Dec 2018 09:59:30 GMT'}\n",
      "Content: b'{\"code\":\"BadRequest\",\"message\":\"The request is invalid\",\"error\":{\"code\":\"BadRequest\",\"statusCode\":400,\"message\":\"The request is invalid\",\"details\":[{\"code\":\"InvalidOperation\",\"message\":\"Compute with name aks already exists. It is in a failed state. Try deleting and creating it again.\"}]}}'\n"
     ]
    }
   ],
   "source": [
    "!az ml computetarget attach aks -n aks -i /subscriptions/2134890c-7972-4f85-ad83-ac246ec2fbfe/resourcegroups/Container1/providers/Microsoft.ContainerService/managedClusters/aks -g Container1 -w workspace"
   ]
  },
  {
   "cell_type": "code",
   "execution_count": 12,
   "metadata": {},
   "outputs": [
    {
     "name": "stdout",
     "output_type": "stream",
     "text": [
      "SDK version: 0.1.59\n"
     ]
    }
   ],
   "source": [
    "from azureml.core import Experiment, Run, Workspace\n",
    "import azureml.core\n",
    "\n",
    "# Check core SDK version number\n",
    "print(\"SDK version:\", azureml.core.VERSION)"
   ]
  },
  {
   "cell_type": "code",
   "execution_count": 13,
   "metadata": {},
   "outputs": [],
   "source": [
    "ws = Workspace(resource_group='Container1',workspace_name='workspace',subscription_id='2134890c-7972-4f85-ad83-ac246ec2fbfe')"
   ]
  },
  {
   "cell_type": "code",
   "execution_count": 14,
   "metadata": {},
   "outputs": [],
   "source": [
    "from azureml.core.model import Model"
   ]
  },
  {
   "cell_type": "code",
   "execution_count": 15,
   "metadata": {},
   "outputs": [
    {
     "name": "stdout",
     "output_type": "stream",
     "text": [
      "Registering model kerasmodel\n"
     ]
    }
   ],
   "source": [
    "model_name = \"kerasmodel\"\n",
    "model_path = \"./kerasmodel.pkl\"\n",
    "\n",
    "model = Model.register(\n",
    "    model_path=model_path,\n",
    "    model_name=model_name,\n",
    "    tags={\"data\": \"rust\", \"model\": \"classification\"},\n",
    "    description=\"Classifying rust and non rust images\",\n",
    "    workspace=ws\n",
    ")"
   ]
  },
  {
   "cell_type": "code",
   "execution_count": 16,
   "metadata": {},
   "outputs": [
    {
     "name": "stdout",
     "output_type": "stream",
     "text": [
      "found existing: aks\n"
     ]
    }
   ],
   "source": [
    "from azureml.core.compute import AksCompute, ComputeTarget\n",
    "from azureml.core.compute_target import ComputeTargetException\n",
    "\n",
    "aks_name = 'aks'\n",
    "aks_target = AksCompute(workspace=ws, name=aks_name)\n",
    "print('found existing:', aks_target.name)\n"
   ]
  },
  {
   "cell_type": "code",
   "execution_count": 25,
   "metadata": {},
   "outputs": [],
   "source": [
    "import os\n",
    "from azureml.core.conda_dependencies import CondaDependencies \n",
    "\n",
    "myenv = CondaDependencies()\n",
    "myenv.add_conda_package(\"keras\")\n",
    "\n",
    "with open(os.path.join(\"myenv.yml\"),\"w\") as f:\n",
    "    f.write(myenv.serialize_to_string())"
   ]
  },
  {
   "cell_type": "code",
   "execution_count": 18,
   "metadata": {},
   "outputs": [
    {
     "name": "stdout",
     "output_type": "stream",
     "text": [
      "# Conda environment specification. The dependencies defined in this file will\n",
      "# be automatically provisioned for runs with userManagedDependencies=False.\n",
      "\n",
      "# Details about the Conda environment file format:\n",
      "# https://conda.io/docs/user-guide/tasks/manage-environments.html#create-env-file-manually\n",
      "\n",
      "name: project_environment\n",
      "dependencies:\n",
      "  # The python interpreter version.\n",
      "  # Currently Azure ML only supports 3.5.2 and later.\n",
      "- python=3.6.2\n",
      "\n",
      "- pip:\n",
      "    # Required packages for AzureML execution, history, and data preparation.\n",
      "    - azureml-defaults\n",
      "    - h5py\n",
      "    - pillow\n",
      "- keras\n",
      "\n"
     ]
    }
   ],
   "source": [
    "import os\n",
    "with open(os.path.join(\"myenv.yml\"),\"r\") as f:\n",
    "    print(f.read())"
   ]
  },
  {
   "cell_type": "code",
   "execution_count": 19,
   "metadata": {},
   "outputs": [],
   "source": [
    "from azureml.core.webservice import AciWebservice\n",
    "\n",
    "aciconfig = AciWebservice.deploy_configuration(\n",
    "    cpu_cores=2, \n",
    "    memory_gb=2, \n",
    "    tags={\"data\": \"rust\",  \"method\" : \"keras\"}, \n",
    "    description='Predict rust with keras'\n",
    ")"
   ]
  },
  {
   "cell_type": "code",
   "execution_count": 20,
   "metadata": {},
   "outputs": [
    {
     "name": "stdout",
     "output_type": "stream",
     "text": [
      "Creating image\n",
      "Running.....................................................\n",
      "SucceededImage creation operation finished for image keras-rust-img:13, operation \"Succeeded\"\n",
      "CPU times: user 1.31 s, sys: 56.3 ms, total: 1.37 s\n",
      "Wall time: 5min 19s\n"
     ]
    }
   ],
   "source": [
    "%%time\n",
    "from azureml.core.image import ContainerImage\n",
    "\n",
    "# configure the image\n",
    "image_config = ContainerImage.image_configuration(\n",
    "    execution_script=\"script.py\", \n",
    "    runtime=\"python\", \n",
    "    conda_file=\"myenv.yml\"\n",
    ")\n",
    "\n",
    "image = ContainerImage.create(\n",
    "    name = \"keras-rust-img\",\n",
    "    models = [model],\n",
    "    image_config = image_config,\n",
    "    workspace = ws\n",
    ")\n",
    "\n",
    "image.wait_for_creation(show_output = True)"
   ]
  },
  {
   "cell_type": "code",
   "execution_count": 21,
   "metadata": {},
   "outputs": [
    {
     "name": "stdout",
     "output_type": "stream",
     "text": [
      "workspace5846851499.azurecr.io/keras-rust-img:13\n"
     ]
    }
   ],
   "source": [
    "print(image.image_location)"
   ]
  },
  {
   "cell_type": "code",
   "execution_count": 22,
   "metadata": {
    "scrolled": true
   },
   "outputs": [
    {
     "name": "stdout",
     "output_type": "stream",
     "text": [
      "Creating service\n",
      "Running..........................................\n",
      "SucceededACI service creation operation finished, operation \"Succeeded\"\n",
      "CPU times: user 921 ms, sys: 46.3 ms, total: 967 ms\n",
      "Wall time: 4min 15s\n"
     ]
    }
   ],
   "source": [
    "%%time\n",
    "from azureml.core.webservice import Webservice\n",
    "\n",
    "aci_service = Webservice.deploy_from_image(\n",
    "    workspace = ws, \n",
    "    name = 'keras-rust8-aci-svc',\n",
    "    image = image,\n",
    "    deployment_config = aciconfig\n",
    ")\n",
    "\n",
    "aci_service.wait_for_deployment(show_output=True)"
   ]
  },
  {
   "cell_type": "code",
   "execution_count": 23,
   "metadata": {},
   "outputs": [
    {
     "name": "stdout",
     "output_type": "stream",
     "text": [
      "http://104.45.69.38:80/score\n"
     ]
    }
   ],
   "source": [
    "print(aci_service.scoring_uri)"
   ]
  },
  {
   "cell_type": "code",
   "execution_count": 62,
   "metadata": {
    "scrolled": false
   },
   "outputs": [
    {
     "data": {
      "text/plain": [
       "'2018-12-26T14:58:44,260351809+00:00 - iot-server/run \\n2018-12-26T14:58:44,260705209+00:00 - rsyslog/run \\nok: run: gunicorn: (pid 13) 0s\\nok: run: nginx: (pid 12) 0s\\nok: run: rsyslog: (pid 14) 0s\\n2018-12-26T14:58:44,263027607+00:00 - gunicorn/run \\nok: run: rsyslog: (pid 14) 0s\\n2018-12-26T14:58:44,266578304+00:00 - nginx/run \\nok: run: rsyslog: (pid 14) 0s\\nEdgeHubConnectionString and IOTEDGE_IOTHUBHOSTNAME are not set. Exiting...\\n2018-12-26T14:58:44,331867849+00:00 - iot-server/finish 1 0\\n2018-12-26T14:58:44,332934348+00:00 - Exit code 1 is normal. Not restarting iot-server.\\n{\"timestamp\": \"2018-12-26T14:58:44.571301Z\", \"message\": \"Starting gunicorn 19.6.0\", \"host\": \"wk-caas-3d6a6752098d462eb73eeb5664770cb5-1970985ce317a833228788\", \"path\": \"/opt/miniconda/lib/python3.6/site-packages/gunicorn/glogging.py\", \"tags\": \"%(module)s, %(asctime)s, %(levelname)s, %(message)s\", \"level\": \"INFO\", \"logger\": \"gunicorn.error\", \"msg\": \"Starting gunicorn %s\", \"stack_info\": null}\\n{\"timestamp\": \"2018-12-26T14:58:44.572030Z\", \"message\": \"Listening at: http://127.0.0.1:9090 (13)\", \"host\": \"wk-caas-3d6a6752098d462eb73eeb5664770cb5-1970985ce317a833228788\", \"path\": \"/opt/miniconda/lib/python3.6/site-packages/gunicorn/glogging.py\", \"tags\": \"%(module)s, %(asctime)s, %(levelname)s, %(message)s\", \"level\": \"INFO\", \"logger\": \"gunicorn.error\", \"msg\": \"Listening at: %s (%s)\", \"stack_info\": null}\\n{\"timestamp\": \"2018-12-26T14:58:44.572128Z\", \"message\": \"Using worker: sync\", \"host\": \"wk-caas-3d6a6752098d462eb73eeb5664770cb5-1970985ce317a833228788\", \"path\": \"/opt/miniconda/lib/python3.6/site-packages/gunicorn/glogging.py\", \"tags\": \"%(module)s, %(asctime)s, %(levelname)s, %(message)s\", \"level\": \"INFO\", \"logger\": \"gunicorn.error\", \"msg\": \"Using worker: %s\", \"stack_info\": null}\\n{\"timestamp\": \"2018-12-26T14:58:44.572692Z\", \"message\": \"worker timeout is set to 300\", \"host\": \"wk-caas-3d6a6752098d462eb73eeb5664770cb5-1970985ce317a833228788\", \"path\": \"/opt/miniconda/lib/python3.6/site-packages/gunicorn/glogging.py\", \"tags\": \"%(module)s, %(asctime)s, %(levelname)s, %(message)s\", \"level\": \"INFO\", \"logger\": \"gunicorn.error\", \"stack_info\": null}\\n{\"timestamp\": \"2018-12-26T14:58:44.573679Z\", \"message\": \"Booting worker with pid: 40\", \"host\": \"wk-caas-3d6a6752098d462eb73eeb5664770cb5-1970985ce317a833228788\", \"path\": \"/opt/miniconda/lib/python3.6/site-packages/gunicorn/glogging.py\", \"tags\": \"%(module)s, %(asctime)s, %(levelname)s, %(message)s\", \"level\": \"INFO\", \"logger\": \"gunicorn.error\", \"msg\": \"Booting worker with pid: %s\", \"stack_info\": null}\\nInitializing logger\\n{\"timestamp\": \"2018-12-26T14:58:48.593467Z\", \"message\": \"{\\\\\"requestId\\\\\": \\\\\"00000000-0000-0000-0000-000000000000\\\\\", \\\\\"message\\\\\": \\\\\"Starting up app insights client\\\\\", \\\\\"apiName\\\\\": \\\\\"\\\\\"}\", \"host\": \"wk-caas-3d6a6752098d462eb73eeb5664770cb5-1970985ce317a833228788\", \"path\": \"/var/azureml-app/aml_logger.py\", \"tags\": \"%(module)s, %(asctime)s, %(levelname)s, %(message)s\", \"level\": \"INFO\", \"logger\": \"root\", \"stack_info\": null}\\n{\"timestamp\": \"2018-12-26T14:58:48.593667Z\", \"message\": \"{\\\\\"requestId\\\\\": \\\\\"00000000-0000-0000-0000-000000000000\\\\\", \\\\\"message\\\\\": \\\\\"Starting up request id generator\\\\\", \\\\\"apiName\\\\\": \\\\\"\\\\\"}\", \"host\": \"wk-caas-3d6a6752098d462eb73eeb5664770cb5-1970985ce317a833228788\", \"path\": \"/var/azureml-app/aml_logger.py\", \"tags\": \"%(module)s, %(asctime)s, %(levelname)s, %(message)s\", \"level\": \"INFO\", \"logger\": \"root\", \"stack_info\": null}\\n{\"timestamp\": \"2018-12-26T14:58:48.593766Z\", \"message\": \"{\\\\\"requestId\\\\\": \\\\\"00000000-0000-0000-0000-000000000000\\\\\", \\\\\"message\\\\\": \\\\\"Starting up app insight hooks\\\\\", \\\\\"apiName\\\\\": \\\\\"\\\\\"}\", \"host\": \"wk-caas-3d6a6752098d462eb73eeb5664770cb5-1970985ce317a833228788\", \"path\": \"/var/azureml-app/aml_logger.py\", \"tags\": \"%(module)s, %(asctime)s, %(levelname)s, %(message)s\", \"level\": \"INFO\", \"logger\": \"root\", \"stack_info\": null}\\n{\"timestamp\": \"2018-12-26T14:58:48.593857Z\", \"message\": \"{\\\\\"requestId\\\\\": \\\\\"00000000-0000-0000-0000-000000000000\\\\\", \\\\\"message\\\\\": \\\\\"Invoking user\\'s init function\\\\\", \\\\\"apiName\\\\\": \\\\\"\\\\\"}\", \"host\": \"wk-caas-3d6a6752098d462eb73eeb5664770cb5-1970985ce317a833228788\", \"path\": \"/var/azureml-app/aml_logger.py\", \"tags\": \"%(module)s, %(asctime)s, %(levelname)s, %(message)s\", \"level\": \"INFO\", \"logger\": \"root\", \"stack_info\": null}\\n2018-12-26 14:58:48.728570: I tensorflow/core/platform/cpu_feature_guard.cc:141] Your CPU supports instructions that this TensorFlow binary was not compiled to use: SSE4.1 SSE4.2 AVX AVX2 FMA\\n2018-12-26 14:58:48.734354: I tensorflow/core/common_runtime/process_util.cc:69] Creating new thread pool with default inter op setting: 2. Tune using inter_op_parallelism_threads for best performance.\\nXXX lineno: 170, opcode: 0\\nExecuting init() method...\\n{\"logger\": \"logger_stdout\", \"request_id\": \"no request id\", \"message\": \"Executing init() method...\", \"timestamp\": \"2018-12-26T14:58:48.594515\"}\\nPython version: 3.6.7 |Anaconda, Inc.| (default, Oct 23 2018, 19:16:44) \\n[GCC 7.3.0], keras version: 2.2.4\\n{\"logger\": \"logger_stdout\", \"request_id\": \"no request id\", \"message\": \"Python version: 3.6.7 |Anaconda, Inc.| (default, Oct 23 2018, 19:16:44) \\\\n[GCC 7.3.0], keras version: 2.2.4\", \"timestamp\": \"2018-12-26T14:58:48.594601\"}\\n{\"timestamp\": \"2018-12-26T14:58:50.625050Z\", \"message\": \"{\\\\\"requestId\\\\\": \\\\\"00000000-0000-0000-0000-000000000000\\\\\", \\\\\"message\\\\\": \\\\\"User\\'s init function failed\\\\\", \\\\\"apiName\\\\\": \\\\\"\\\\\"}\", \"host\": \"wk-caas-3d6a6752098d462eb73eeb5664770cb5-1970985ce317a833228788\", \"path\": \"/var/azureml-app/aml_logger.py\", \"tags\": \"%(module)s, %(asctime)s, %(levelname)s, %(message)s\", \"level\": \"ERROR\", \"logger\": \"root\", \"stack_info\": null}\\nUsing TensorFlow backend.\\n{\"timestamp\": \"2018-12-26T14:58:50.627267Z\", \"message\": \"{\\\\\"requestId\\\\\": \\\\\"00000000-0000-0000-0000-000000000000\\\\\", \\\\\"message\\\\\": \\\\\"Encountered Exception Traceback (most recent call last):\\\\\\\\n  File \\\\\\\\\\\\\"/var/azureml-app/aml_blueprint.py\\\\\\\\\\\\\", line 109, in register\\\\\\\\n    main.init()\\\\\\\\n  File \\\\\\\\\\\\\"/var/azureml-app/main.py\\\\\\\\\\\\\", line 79, in init\\\\\\\\n    driver_module.init()\\\\\\\\n  File \\\\\\\\\\\\\"script.py\\\\\\\\\\\\\", line 17, in init\\\\\\\\n    model = K.models.load_model(\\'azureml-models/kerasmodel/5/kerasmodel.pkl\\')\\\\\\\\n  File \\\\\\\\\\\\\"/opt/miniconda/lib/python3.6/site-packages/keras/engine/saving.py\\\\\\\\\\\\\", line 419, in load_model\\\\\\\\n    model = _deserialize_model(f, custom_objects, compile)\\\\\\\\n  File \\\\\\\\\\\\\"/opt/miniconda/lib/python3.6/site-packages/keras/engine/saving.py\\\\\\\\\\\\\", line 225, in _deserialize_model\\\\\\\\n    model = model_from_config(model_config, custom_objects=custom_objects)\\\\\\\\n  File \\\\\\\\\\\\\"/opt/miniconda/lib/python3.6/site-packages/keras/engine/saving.py\\\\\\\\\\\\\", line 458, in model_from_config\\\\\\\\n    return deserialize(config, custom_objects=custom_objects)\\\\\\\\n  File \\\\\\\\\\\\\"/opt/miniconda/lib/python3.6/site-packages/keras/layers/__init__.py\\\\\\\\\\\\\", line 55, in deserialize\\\\\\\\n    printable_module_name=\\'layer\\')\\\\\\\\n  File \\\\\\\\\\\\\"/opt/miniconda/lib/python3.6/site-packages/keras/utils/generic_utils.py\\\\\\\\\\\\\", line 145, in deserialize_keras_object\\\\\\\\n    list(custom_objects.items())))\\\\\\\\n  File \\\\\\\\\\\\\"/opt/miniconda/lib/python3.6/site-packages/keras/engine/sequential.py\\\\\\\\\\\\\", line 300, in from_config\\\\\\\\n    custom_objects=custom_objects)\\\\\\\\n  File \\\\\\\\\\\\\"/opt/miniconda/lib/python3.6/site-packages/keras/layers/__init__.py\\\\\\\\\\\\\", line 55, in deserialize\\\\\\\\n    printable_module_name=\\'layer\\')\\\\\\\\n  File \\\\\\\\\\\\\"/opt/miniconda/lib/python3.6/site-packages/keras/utils/generic_utils.py\\\\\\\\\\\\\", line 145, in deserialize_keras_object\\\\\\\\n    list(custom_objects.items())))\\\\\\\\n  File \\\\\\\\\\\\\"/opt/miniconda/lib/python3.6/site-packages/keras/engine/network.py\\\\\\\\\\\\\", line 1032, in from_config\\\\\\\\n    process_node(layer, node_data)\\\\\\\\n  File \\\\\\\\\\\\\"/opt/miniconda/lib/python3.6/site-packages/keras/engine/network.py\\\\\\\\\\\\\", line 991, in process_node\\\\\\\\n    layer(unpack_singleton(input_tensors), **kwargs)\\\\\\\\n  File \\\\\\\\\\\\\"/opt/miniconda/lib/python3.6/site-packages/keras/engine/base_layer.py\\\\\\\\\\\\\", line 457, in __call__\\\\\\\\n    output = self.call(inputs, **kwargs)\\\\\\\\n  File \\\\\\\\\\\\\"/opt/miniconda/lib/python3.6/site-packages/keras/layers/core.py\\\\\\\\\\\\\", line 687, in call\\\\\\\\n    return self.function(inputs, **arguments)\\\\\\\\n  File \\\\\\\\\\\\\"/anaconda/envs/py35/lib/python3.5/site-packages/keras_applications/inception_resnet_v2.py\\\\\\\\\\\\\", line 170, in <lambda>\\\\\\\\nSystemError: unknown opcode\\\\\\\\n\\\\\", \\\\\"apiName\\\\\": \\\\\"\\\\\"}\", \"host\": \"wk-caas-3d6a6752098d462eb73eeb5664770cb5-1970985ce317a833228788\", \"path\": \"/var/azureml-app/aml_logger.py\", \"tags\": \"%(module)s, %(asctime)s, %(levelname)s, %(message)s\", \"level\": \"ERROR\", \"logger\": \"root\", \"stack_info\": null}\\n{\"timestamp\": \"2018-12-26T14:58:50.627466Z\", \"message\": \"Worker exiting (pid: 40)\", \"host\": \"wk-caas-3d6a6752098d462eb73eeb5664770cb5-1970985ce317a833228788\", \"path\": \"/opt/miniconda/lib/python3.6/site-packages/gunicorn/glogging.py\", \"tags\": \"%(module)s, %(asctime)s, %(levelname)s, %(message)s\", \"level\": \"INFO\", \"logger\": \"gunicorn.error\", \"msg\": \"Worker exiting (pid: %s)\", \"stack_info\": null}\\n{\"timestamp\": \"2018-12-26T14:58:50.988471Z\", \"message\": \"Shutting down: Master\", \"host\": \"wk-caas-3d6a6752098d462eb73eeb5664770cb5-1970985ce317a833228788\", \"path\": \"/opt/miniconda/lib/python3.6/site-packages/gunicorn/glogging.py\", \"tags\": \"%(module)s, %(asctime)s, %(levelname)s, %(message)s\", \"level\": \"INFO\", \"logger\": \"gunicorn.error\", \"msg\": \"Shutting down: %s\", \"stack_info\": null}\\n{\"timestamp\": \"2018-12-26T14:58:50.988774Z\", \"message\": \"Reason: Worker failed to boot.\", \"host\": \"wk-caas-3d6a6752098d462eb73eeb5664770cb5-1970985ce317a833228788\", \"path\": \"/opt/miniconda/lib/python3.6/site-packages/gunicorn/glogging.py\", \"tags\": \"%(module)s, %(asctime)s, %(levelname)s, %(message)s\", \"level\": \"INFO\", \"logger\": \"gunicorn.error\", \"msg\": \"Reason: %s\", \"stack_info\": null}\\n2018-12-26T14:58:51,012023500+00:00 - gunicorn/finish 3 0\\n2018-12-26T14:58:51,013030800+00:00 - Exit code 3 is not normal. Killing image.\\n'"
      ]
     },
     "execution_count": 62,
     "metadata": {},
     "output_type": "execute_result"
    }
   ],
   "source": [
    "aci_service.get_logs()"
   ]
  },
  {
   "cell_type": "code",
   "execution_count": null,
   "metadata": {},
   "outputs": [],
   "source": []
  }
 ],
 "metadata": {
  "kernelspec": {
   "display_name": "Python [default]",
   "language": "python",
   "name": "python3"
  },
  "language_info": {
   "codemirror_mode": {
    "name": "ipython",
    "version": 3
   },
   "file_extension": ".py",
   "mimetype": "text/x-python",
   "name": "python",
   "nbconvert_exporter": "python",
   "pygments_lexer": "ipython3",
   "version": "3.6.6"
  }
 },
 "nbformat": 4,
 "nbformat_minor": 2
}
