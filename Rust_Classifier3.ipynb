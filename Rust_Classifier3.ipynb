{
 "cells": [
  {
   "cell_type": "code",
   "execution_count": 1,
   "metadata": {},
   "outputs": [
    {
     "name": "stderr",
     "output_type": "stream",
     "text": [
      "Using TensorFlow backend.\n"
     ]
    }
   ],
   "source": [
    "import numpy as np\n",
    "from keras.preprocessing.image import ImageDataGenerator\n",
    "from keras.preprocessing import image\n",
    "from keras.layers import Dropout, Flatten, Dense\n",
    "from keras.applications import ResNet50,InceptionResNetV2\n",
    "from keras.models import Model, Sequential\n",
    "from keras.layers import Dense, GlobalAveragePooling2D,GlobalMaxPooling2D\n",
    "from keras import backend as K\n",
    "from keras.applications.resnet50 import preprocess_input\n",
    "from keras import optimizers\n",
    "import matplotlib.pyplot as plt"
   ]
  },
  {
   "cell_type": "code",
   "execution_count": 2,
   "metadata": {},
   "outputs": [],
   "source": [
    "base_model = InceptionResNetV2(weights = 'imagenet',include_top=False,input_shape=(224,224,3))\n",
    "#base_model.summary()"
   ]
  },
  {
   "cell_type": "code",
   "execution_count": 3,
   "metadata": {},
   "outputs": [],
   "source": [
    "model = Sequential()\n",
    "model.add(base_model)\n",
    "#x = base_model.output\n",
    "# x = Flatten()(x)\n",
    "# x = Dense(256,activation='relu')(x)\n",
    "# predictions = Dense(2, activation='softmax')(x)\n",
    "model.add(Flatten())\n",
    "model.add(Dense(256,activation='relu'))\n",
    "# model.add(Dropout(0.25))\n",
    "# model.add(Dense(128,activation='relu'))\n",
    "# model.add(Dropout(0.5))\n",
    "model.add(Dense(4, activation='softmax'))"
   ]
  },
  {
   "cell_type": "code",
   "execution_count": 4,
   "metadata": {},
   "outputs": [
    {
     "name": "stdout",
     "output_type": "stream",
     "text": [
      "_________________________________________________________________\n",
      "Layer (type)                 Output Shape              Param #   \n",
      "=================================================================\n",
      "inception_resnet_v2 (Model)  (None, 5, 5, 1536)        54336736  \n",
      "_________________________________________________________________\n",
      "flatten_1 (Flatten)          (None, 38400)             0         \n",
      "_________________________________________________________________\n",
      "dense_1 (Dense)              (None, 256)               9830656   \n",
      "_________________________________________________________________\n",
      "dense_2 (Dense)              (None, 4)                 1028      \n",
      "=================================================================\n",
      "Total params: 64,168,420\n",
      "Trainable params: 43,870,020\n",
      "Non-trainable params: 20,298,400\n",
      "_________________________________________________________________\n"
     ]
    }
   ],
   "source": [
    "#model = Model(inputs=base_model.input, outputs=predictions)\n",
    "for layer in base_model.layers[:500]: \n",
    "  layer.trainable = False\n",
    "for layer in base_model.layers[500:]: \n",
    "  layer.trainable = True\n",
    "# for layer in base_model.layers: \n",
    "#    layer.trainable = False\n",
    "model.compile(optimizer=optimizers.SGD(lr=0.001), loss='categorical_crossentropy'\n",
    "              , metrics=['accuracy'])\n",
    "model.summary()"
   ]
  },
  {
   "cell_type": "code",
   "execution_count": 5,
   "metadata": {},
   "outputs": [],
   "source": [
    "model.load_weights(\"newrust3.h5\")"
   ]
  },
  {
   "cell_type": "code",
   "execution_count": 6,
   "metadata": {},
   "outputs": [],
   "source": [
    "model.save('kerasmodel3.pkl')"
   ]
  },
  {
   "cell_type": "code",
   "execution_count": 9,
   "metadata": {},
   "outputs": [
    {
     "name": "stdout",
     "output_type": "stream",
     "text": [
      "Overwriting script.py\n"
     ]
    }
   ],
   "source": [
    "%%writefile script.py\n",
    "\n",
    "import numpy as np\n",
    "import os\n",
    "import sys\n",
    "import keras as K\n",
    "import json\n",
    "import base64\n",
    "from io import BytesIO\n",
    "from PIL import Image\n",
    "from keras.preprocessing import image\n",
    "from keras.applications.inception_resnet_v2 import preprocess_input\n",
    "\n",
    "def init():\n",
    "    \n",
    "    global model  \n",
    "\n",
    "    print(\"Executing init() method...\")\n",
    "    print(\"Python version: \" + str(sys.version) + \", keras version: \" + K.__version__)\n",
    "    # Load the model \n",
    "    model = K.models.load_model('azureml-models/kerasmodel3/1/kerasmodel3.pkl')\n",
    "    #model = K.models.load_model('kerasmodel3.pkl')\n",
    "    \n",
    "    return\n",
    "\n",
    "def predict(model, img):\n",
    "    x = image.img_to_array(img)\n",
    "    x = np.expand_dims(x, axis=0)\n",
    "    x = preprocess_input(x)\n",
    "    preds = model.predict_classes(x)\n",
    "    y = model.predict(x)[0]\n",
    "    y = np.expand_dims(y, axis=-1)\n",
    "    print(y)\n",
    "    b = []\n",
    "    a = y[0]\n",
    "    b.append(np.float(a))\n",
    "    a = y[1]\n",
    "    b.append(np.float(a))\n",
    "    a = y[2]\n",
    "    b.append(np.float(a))\n",
    "    a = y[3]\n",
    "    b.append(np.float(a))\n",
    "    b.append(preds[0])\n",
    "    return b\n",
    "\n",
    "def run(inputString):\n",
    "    \n",
    "    responses = []\n",
    "    base64Dict = json.loads(inputString)\n",
    "\n",
    "    for k, v in base64Dict.items():\n",
    "        img_file_name, base64Img = k, v\n",
    "    decoded_img = base64.b64decode(base64Img)\n",
    "    img_buffer = BytesIO(decoded_img)\n",
    "    #imageData = Image.open(img_buffer).convert(\"RGB\")\n",
    "\n",
    "\n",
    "#     # Evaluate the model using the input data\n",
    "#     img = ImageOps.fit(imageData, (32, 32), Image.ANTIALIAS)\n",
    "#     img_conv = np.array(img) # shape: (32, 32, 3)\n",
    "#     # Scale pixel intensity\n",
    "#     x_test = img_conv / 255.0\n",
    "#     # Reshape\n",
    "#     x_test = np.moveaxis(x_test, -1, 0)\n",
    "#     x_test = np.expand_dims(x_test, 0)  # shape (1, 3, 32, 32)\n",
    "\n",
    "#     y_pred = model.predict(x_test)\n",
    "#     y_pred = np.argmax(y_pred, axis=-1)\n",
    "#     # print(y_pred)\n",
    "#     data = json.loads(inputString)['data']\n",
    "    #img_input = base64.decodestring(json.dumps(inputString)[0])\n",
    "    img = image.load_img(img_buffer,target_size=(224, 224))\n",
    "    #img = json.loads(inputString)['data']\n",
    "    preds = predict(model, img)\n",
    "    LABELS = [\"Category A\",\"Category B\",\"Category C\",\"Category D\"]\n",
    "    resp = LABELS[preds[-1]]\n",
    "    responses.append(preds[0])\n",
    "    responses.append(preds[1])\n",
    "    responses.append(preds[2])\n",
    "    responses.append(preds[3])\n",
    "    responses.append(resp)\n",
    "    return json.dumps(responses)\n",
    "    \n",
    "  \n",
    "if __name__ == \"__main__\":\n",
    "    init()\n",
    "    # input data\n",
    "    img_path = '00000668.JPG'\n",
    "    #input_data = \"{\\\"data\\\": [\" + str(list(img_path)) + \"]}\"\n",
    "    encoded = None\n",
    "    with open(img_path, 'rb') as file:\n",
    "        encoded = base64.b64encode(file.read())\n",
    "    img_dict = {img_path: encoded.decode('utf-8')}\n",
    "    body = json.dumps(img_dict)\n",
    "    resp = run(body)\n",
    "    print(resp)"
   ]
  },
  {
   "cell_type": "code",
   "execution_count": 10,
   "metadata": {},
   "outputs": [
    {
     "name": "stdout",
     "output_type": "stream",
     "text": [
      "Using TensorFlow backend.\n",
      "Executing init() method...\n",
      "Python version: 3.6.7 |Anaconda, Inc.| (default, Oct 23 2018, 19:16:44) \n",
      "[GCC 7.3.0], keras version: 2.1.5\n",
      "2019-01-15 20:09:29.238418: I tensorflow/core/platform/cpu_feature_guard.cc:141] Your CPU supports instructions that this TensorFlow binary was not compiled to use: AVX2 FMA\n",
      "2019-01-15 20:09:29.266077: E tensorflow/stream_executor/cuda/cuda_driver.cc:300] failed call to cuInit: CUDA_ERROR_UNKNOWN: unknown error\n",
      "2019-01-15 20:09:29.266151: I tensorflow/stream_executor/cuda/cuda_diagnostics.cc:150] kernel driver does not appear to be running on this host (DemoVM): /proc/driver/nvidia/version does not exist\n",
      "[[0.41764382]\n",
      " [0.07987227]\n",
      " [0.12280396]\n",
      " [0.37968   ]]\n",
      "[0.41764381527900696, 0.079872265458107, 0.12280396372079849, 0.37968000769615173, \"Category A\"]\n"
     ]
    }
   ],
   "source": [
    "!python script.py"
   ]
  },
  {
   "cell_type": "code",
   "execution_count": 11,
   "metadata": {},
   "outputs": [
    {
     "name": "stdout",
     "output_type": "stream",
     "text": [
      "SDK version: 1.0.2\n"
     ]
    }
   ],
   "source": [
    "from azureml.core import Experiment, Run, Workspace\n",
    "import azureml.core\n",
    "\n",
    "# Check core SDK version number\n",
    "print(\"SDK version:\", azureml.core.VERSION)"
   ]
  },
  {
   "cell_type": "code",
   "execution_count": 12,
   "metadata": {},
   "outputs": [],
   "source": [
    "ws = Workspace(resource_group='DemoGroup',workspace_name='demospace',subscription_id='5959c85b-cacb-4c20-b1fb-e47c40ed5aff')"
   ]
  },
  {
   "cell_type": "code",
   "execution_count": 13,
   "metadata": {},
   "outputs": [],
   "source": [
    "from azureml.core.model import Model"
   ]
  },
  {
   "cell_type": "code",
   "execution_count": 14,
   "metadata": {},
   "outputs": [
    {
     "name": "stdout",
     "output_type": "stream",
     "text": [
      "Registering model kerasmodel3\n"
     ]
    }
   ],
   "source": [
    "model_name = \"kerasmodel3\"\n",
    "model_path = \"./kerasmodel3.pkl\"\n",
    "\n",
    "model = Model.register(\n",
    "    model_path=model_path,\n",
    "    model_name=model_name,\n",
    "    tags={\"data\": \"rust\", \"model\": \"classification\"},\n",
    "    description=\"Classifying rust and non rust images\",\n",
    "    workspace=ws\n",
    ")"
   ]
  },
  {
   "cell_type": "code",
   "execution_count": 15,
   "metadata": {},
   "outputs": [],
   "source": [
    "from azureml.core.webservice import AciWebservice\n",
    "\n",
    "aciconfig = AciWebservice.deploy_configuration(\n",
    "    cpu_cores=2, \n",
    "    memory_gb=2, \n",
    "    tags={\"data\": \"rust\",  \"method\" : \"keras\"}, \n",
    "    description='Predict rust with keras'\n",
    ")"
   ]
  },
  {
   "cell_type": "code",
   "execution_count": 16,
   "metadata": {},
   "outputs": [
    {
     "name": "stdout",
     "output_type": "stream",
     "text": [
      "Creating image\n",
      "Running..............................................................\n",
      "SucceededImage creation operation finished for image keras-rust-img3:1, operation \"Succeeded\"\n",
      "CPU times: user 1.77 s, sys: 89.8 ms, total: 1.86 s\n",
      "Wall time: 5min 31s\n"
     ]
    }
   ],
   "source": [
    "%%time\n",
    "from azureml.core.image import ContainerImage\n",
    "\n",
    "# configure the image\n",
    "image_config = ContainerImage.image_configuration(\n",
    "    execution_script=\"script.py\", \n",
    "    runtime=\"python\", \n",
    "    conda_file=\"myenv.yml\"\n",
    ")\n",
    "\n",
    "image = ContainerImage.create(\n",
    "    name = \"keras-rust-img3\",\n",
    "    models = [model],\n",
    "    image_config = image_config,\n",
    "    workspace = ws\n",
    ")\n",
    "\n",
    "image.wait_for_creation(show_output = True)"
   ]
  },
  {
   "cell_type": "code",
   "execution_count": 17,
   "metadata": {},
   "outputs": [
    {
     "name": "stdout",
     "output_type": "stream",
     "text": [
      "demospace3143890589.azurecr.io/keras-rust-img3:1\n"
     ]
    }
   ],
   "source": [
    "print(image.image_location)"
   ]
  },
  {
   "cell_type": "code",
   "execution_count": 18,
   "metadata": {},
   "outputs": [
    {
     "name": "stdout",
     "output_type": "stream",
     "text": [
      "Creating service\n",
      "Running..................................\n",
      "FailedACI service creation operation finished, operation \"Failed\"\n",
      "Service creation polling reached terminal state, unexpected error response:\n",
      "{'code': 'AciDeploymentFailed', 'message': 'Aci Deployment failed', 'details': [{'code': 'CrashLoopBackOff', 'message': \"Your container application crashed. This may be caused by errors in your scoring file's init() function.\\nPlease check the logs for your container instance keras-rust-aci-svc3.\\nYou can also try to run image demospace3143890589.azurecr.io/keras-rust-img3:1 locally. Please refer to http://aka.ms/debugimage for more information.\"}]}\n",
      "CPU times: user 970 ms, sys: 44.7 ms, total: 1.02 s\n",
      "Wall time: 3min 20s\n"
     ]
    }
   ],
   "source": [
    "%%time\n",
    "from azureml.core.webservice import Webservice\n",
    "\n",
    "aci_service = Webservice.deploy_from_image(\n",
    "    workspace = ws, \n",
    "    name = 'keras-rust-aci-svc3',\n",
    "    image = image,\n",
    "    deployment_config = aciconfig\n",
    ")\n",
    "\n",
    "aci_service.wait_for_deployment(show_output=True)"
   ]
  },
  {
   "cell_type": "code",
   "execution_count": 19,
   "metadata": {},
   "outputs": [
    {
     "name": "stdout",
     "output_type": "stream",
     "text": [
      "http://52.236.144.199:80/score\n"
     ]
    }
   ],
   "source": [
    "print(aci_service.scoring_uri)"
   ]
  },
  {
   "cell_type": "code",
   "execution_count": null,
   "metadata": {},
   "outputs": [],
   "source": []
  }
 ],
 "metadata": {
  "kernelspec": {
   "display_name": "Python 3",
   "language": "python",
   "name": "python3"
  },
  "language_info": {
   "codemirror_mode": {
    "name": "ipython",
    "version": 3
   },
   "file_extension": ".py",
   "mimetype": "text/x-python",
   "name": "python",
   "nbconvert_exporter": "python",
   "pygments_lexer": "ipython3",
   "version": "3.6.7"
  }
 },
 "nbformat": 4,
 "nbformat_minor": 2
}
